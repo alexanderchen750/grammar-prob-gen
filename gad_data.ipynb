{
 "cells": [
  {
   "cell_type": "code",
   "id": "initial_id",
   "metadata": {
    "collapsed": true,
    "ExecuteTime": {
     "end_time": "2025-07-15T21:21:17.546536Z",
     "start_time": "2025-07-15T21:21:17.514374Z"
    }
   },
   "source": [
    "import pandas as pd\n",
    "\n",
    "df = pd.read_pickle(\"training_data/grammar_data_df.pkl\")\n",
    "df.head()"
   ],
   "outputs": [
    {
     "data": {
      "text/plain": [
       "                              parser_state  \\\n",
       "0  [0, 0, 0, 0, 0, 0, 0, 0, 1, 0, 0, 0, 0]   \n",
       "1  [0, 0, 0, 0, 0, 0, 0, 0, 0, 0, 1, 0, 0]   \n",
       "2  [0, 0, 0, 0, 0, 0, 0, 0, 0, 0, 0, 1, 0]   \n",
       "3  [0, 0, 0, 0, 0, 0, 0, 0, 0, 1, 0, 0, 0]   \n",
       "4  [0, 0, 1, 0, 0, 0, 0, 0, 0, 0, 0, 0, 0]   \n",
       "\n",
       "                                    syncode_logprobs  \\\n",
       "0  [-inf, -inf, -inf, -inf, -inf, -inf, -inf, -in...   \n",
       "1  [-inf, -inf, -inf, -inf, -inf, -inf, -inf, -in...   \n",
       "2  [-inf, -inf, -inf, -inf, -inf, -inf, -inf, -in...   \n",
       "3  [-inf, -inf, -inf, -inf, -inf, -inf, -inf, -in...   \n",
       "4  [-inf, -inf, -inf, -inf, -inf, -inf, -inf, -in...   \n",
       "\n",
       "                                   baseline_logprobs  \n",
       "0  [-10.92, -4.24, -10.01, -3.38, -6.41, -8.39, -...  \n",
       "1  [-10.92, -4.24, -10.01, -3.38, -6.41, -8.39, -...  \n",
       "2  [-10.92, -4.24, -10.01, -3.38, -6.41, -8.39, -...  \n",
       "3  [-10.92, -4.24, -10.01, -3.38, -6.41, -8.39, -...  \n",
       "4  [-10.92, -4.24, -10.01, -3.38, -6.41, -8.39, -...  "
      ],
      "text/html": [
       "<div>\n",
       "<style scoped>\n",
       "    .dataframe tbody tr th:only-of-type {\n",
       "        vertical-align: middle;\n",
       "    }\n",
       "\n",
       "    .dataframe tbody tr th {\n",
       "        vertical-align: top;\n",
       "    }\n",
       "\n",
       "    .dataframe thead th {\n",
       "        text-align: right;\n",
       "    }\n",
       "</style>\n",
       "<table border=\"1\" class=\"dataframe\">\n",
       "  <thead>\n",
       "    <tr style=\"text-align: right;\">\n",
       "      <th></th>\n",
       "      <th>parser_state</th>\n",
       "      <th>syncode_logprobs</th>\n",
       "      <th>baseline_logprobs</th>\n",
       "    </tr>\n",
       "  </thead>\n",
       "  <tbody>\n",
       "    <tr>\n",
       "      <th>0</th>\n",
       "      <td>[0, 0, 0, 0, 0, 0, 0, 0, 1, 0, 0, 0, 0]</td>\n",
       "      <td>[-inf, -inf, -inf, -inf, -inf, -inf, -inf, -in...</td>\n",
       "      <td>[-10.92, -4.24, -10.01, -3.38, -6.41, -8.39, -...</td>\n",
       "    </tr>\n",
       "    <tr>\n",
       "      <th>1</th>\n",
       "      <td>[0, 0, 0, 0, 0, 0, 0, 0, 0, 0, 1, 0, 0]</td>\n",
       "      <td>[-inf, -inf, -inf, -inf, -inf, -inf, -inf, -in...</td>\n",
       "      <td>[-10.92, -4.24, -10.01, -3.38, -6.41, -8.39, -...</td>\n",
       "    </tr>\n",
       "    <tr>\n",
       "      <th>2</th>\n",
       "      <td>[0, 0, 0, 0, 0, 0, 0, 0, 0, 0, 0, 1, 0]</td>\n",
       "      <td>[-inf, -inf, -inf, -inf, -inf, -inf, -inf, -in...</td>\n",
       "      <td>[-10.92, -4.24, -10.01, -3.38, -6.41, -8.39, -...</td>\n",
       "    </tr>\n",
       "    <tr>\n",
       "      <th>3</th>\n",
       "      <td>[0, 0, 0, 0, 0, 0, 0, 0, 0, 1, 0, 0, 0]</td>\n",
       "      <td>[-inf, -inf, -inf, -inf, -inf, -inf, -inf, -in...</td>\n",
       "      <td>[-10.92, -4.24, -10.01, -3.38, -6.41, -8.39, -...</td>\n",
       "    </tr>\n",
       "    <tr>\n",
       "      <th>4</th>\n",
       "      <td>[0, 0, 1, 0, 0, 0, 0, 0, 0, 0, 0, 0, 0]</td>\n",
       "      <td>[-inf, -inf, -inf, -inf, -inf, -inf, -inf, -in...</td>\n",
       "      <td>[-10.92, -4.24, -10.01, -3.38, -6.41, -8.39, -...</td>\n",
       "    </tr>\n",
       "  </tbody>\n",
       "</table>\n",
       "</div>"
      ]
     },
     "execution_count": 3,
     "metadata": {},
     "output_type": "execute_result"
    }
   ],
   "execution_count": 3
  },
  {
   "metadata": {
    "ExecuteTime": {
     "end_time": "2025-07-16T08:55:58.733926Z",
     "start_time": "2025-07-16T08:55:58.705461Z"
    }
   },
   "cell_type": "code",
   "source": [
    "import numpy as np\n",
    "arr = np.stack(df['syncode_logprobs'].values)\n",
    "\n",
    "finite_mask = np.isfinite(arr)\n",
    "rows_with_non_inf = finite_mask.any(axis=1)\n",
    "\n",
    "print(\"Rows with ≥1 non -inf value:\", np.where(rows_with_non_inf)[0])\n",
    "print(f\"{rows_with_non_inf.sum()}/{arr.shape[0]} rows have at least one non -inf element\")"
   ],
   "id": "39c6dd9e09ea8039",
   "outputs": [
    {
     "name": "stdout",
     "output_type": "stream",
     "text": [
      "Rows with ≥1 non -inf value: [ 0  1  2  3  4  5  6  7  8  9 10 11 12 13 14 15 16 17 18 19 20 21 22 23\n",
      " 24 25 26 27 28 29 30 31 32 33 34 35 36 37 38 39 40 41 42 43 44 45 46 47\n",
      " 48 49 50 51 52 53 54 55 56 57 58 59 60 61 62 63 64 65 66 67 68 69 70 71\n",
      " 72 73 74 75 76 77 78 79 80 81 82 83 84]\n",
      "85/85 rows have at least one non -inf element\n"
     ]
    }
   ],
   "execution_count": 5
  },
  {
   "metadata": {
    "ExecuteTime": {
     "end_time": "2025-07-16T09:03:06.574341Z",
     "start_time": "2025-07-16T09:03:06.571287Z"
    }
   },
   "cell_type": "code",
   "source": [
    "def extract_noninf(arr):\n",
    "    \"\"\"\n",
    "    Returns (first_noninf_value, its_index) or (np.nan, None) if none found.\n",
    "    \"\"\"\n",
    "    for idx, val in enumerate(arr):\n",
    "        if np.isfinite(val):\n",
    "            return val, idx\n",
    "    return np.nan, None"
   ],
   "id": "8c640c6acf50733c",
   "outputs": [],
   "execution_count": 7
  },
  {
   "metadata": {
    "ExecuteTime": {
     "end_time": "2025-07-16T09:03:42.493998Z",
     "start_time": "2025-07-16T09:03:32.035836Z"
    }
   },
   "cell_type": "code",
   "source": [
    "df[['syncode_prob','syncode_idx']] = (\n",
    "    df['syncode_logprobs']\n",
    "      .apply(lambda v: pd.Series(extract_noninf(v), index=['syncode_prob','syncode_idx']))\n",
    ")\n",
    "\n",
    "new_df = df[['parser_state','syncode_prob','syncode_idx','baseline_logprobs']]\n",
    "\n",
    "# Inspect:\n",
    "new_df.head()"
   ],
   "id": "9bcf4f1e70b8e9fa",
   "outputs": [
    {
     "data": {
      "text/plain": [
       "                              parser_state  syncode_prob  syncode_idx  \\\n",
       "0  [0, 0, 0, 0, 0, 0, 0, 0, 1, 0, 0, 0, 0]     -5.367188         58.0   \n",
       "1  [0, 0, 0, 0, 0, 0, 0, 0, 0, 0, 1, 0, 0]     -0.008553     151643.0   \n",
       "2  [0, 0, 0, 0, 0, 0, 0, 0, 0, 0, 0, 1, 0]     -0.008553     151643.0   \n",
       "3  [0, 0, 0, 0, 0, 0, 0, 0, 0, 1, 0, 0, 0]     -0.008553     151643.0   \n",
       "4  [0, 0, 1, 0, 0, 0, 0, 0, 0, 0, 0, 0, 0]     -0.008553     151643.0   \n",
       "\n",
       "                                   baseline_logprobs  \n",
       "0  [-10.92, -4.24, -10.01, -3.38, -6.41, -8.39, -...  \n",
       "1  [-10.92, -4.24, -10.01, -3.38, -6.41, -8.39, -...  \n",
       "2  [-10.92, -4.24, -10.01, -3.38, -6.41, -8.39, -...  \n",
       "3  [-10.92, -4.24, -10.01, -3.38, -6.41, -8.39, -...  \n",
       "4  [-10.92, -4.24, -10.01, -3.38, -6.41, -8.39, -...  "
      ],
      "text/html": [
       "<div>\n",
       "<style scoped>\n",
       "    .dataframe tbody tr th:only-of-type {\n",
       "        vertical-align: middle;\n",
       "    }\n",
       "\n",
       "    .dataframe tbody tr th {\n",
       "        vertical-align: top;\n",
       "    }\n",
       "\n",
       "    .dataframe thead th {\n",
       "        text-align: right;\n",
       "    }\n",
       "</style>\n",
       "<table border=\"1\" class=\"dataframe\">\n",
       "  <thead>\n",
       "    <tr style=\"text-align: right;\">\n",
       "      <th></th>\n",
       "      <th>parser_state</th>\n",
       "      <th>syncode_prob</th>\n",
       "      <th>syncode_idx</th>\n",
       "      <th>baseline_logprobs</th>\n",
       "    </tr>\n",
       "  </thead>\n",
       "  <tbody>\n",
       "    <tr>\n",
       "      <th>0</th>\n",
       "      <td>[0, 0, 0, 0, 0, 0, 0, 0, 1, 0, 0, 0, 0]</td>\n",
       "      <td>-5.367188</td>\n",
       "      <td>58.0</td>\n",
       "      <td>[-10.92, -4.24, -10.01, -3.38, -6.41, -8.39, -...</td>\n",
       "    </tr>\n",
       "    <tr>\n",
       "      <th>1</th>\n",
       "      <td>[0, 0, 0, 0, 0, 0, 0, 0, 0, 0, 1, 0, 0]</td>\n",
       "      <td>-0.008553</td>\n",
       "      <td>151643.0</td>\n",
       "      <td>[-10.92, -4.24, -10.01, -3.38, -6.41, -8.39, -...</td>\n",
       "    </tr>\n",
       "    <tr>\n",
       "      <th>2</th>\n",
       "      <td>[0, 0, 0, 0, 0, 0, 0, 0, 0, 0, 0, 1, 0]</td>\n",
       "      <td>-0.008553</td>\n",
       "      <td>151643.0</td>\n",
       "      <td>[-10.92, -4.24, -10.01, -3.38, -6.41, -8.39, -...</td>\n",
       "    </tr>\n",
       "    <tr>\n",
       "      <th>3</th>\n",
       "      <td>[0, 0, 0, 0, 0, 0, 0, 0, 0, 1, 0, 0, 0]</td>\n",
       "      <td>-0.008553</td>\n",
       "      <td>151643.0</td>\n",
       "      <td>[-10.92, -4.24, -10.01, -3.38, -6.41, -8.39, -...</td>\n",
       "    </tr>\n",
       "    <tr>\n",
       "      <th>4</th>\n",
       "      <td>[0, 0, 1, 0, 0, 0, 0, 0, 0, 0, 0, 0, 0]</td>\n",
       "      <td>-0.008553</td>\n",
       "      <td>151643.0</td>\n",
       "      <td>[-10.92, -4.24, -10.01, -3.38, -6.41, -8.39, -...</td>\n",
       "    </tr>\n",
       "  </tbody>\n",
       "</table>\n",
       "</div>"
      ]
     },
     "execution_count": 8,
     "metadata": {},
     "output_type": "execute_result"
    }
   ],
   "execution_count": 8
  }
 ],
 "metadata": {
  "kernelspec": {
   "display_name": "Python 3",
   "language": "python",
   "name": "python3"
  },
  "language_info": {
   "codemirror_mode": {
    "name": "ipython",
    "version": 2
   },
   "file_extension": ".py",
   "mimetype": "text/x-python",
   "name": "python",
   "nbconvert_exporter": "python",
   "pygments_lexer": "ipython2",
   "version": "2.7.6"
  }
 },
 "nbformat": 4,
 "nbformat_minor": 5
}
